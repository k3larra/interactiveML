{
 "cells": [
  {
   "cell_type": "code",
   "execution_count": 1,
   "metadata": {},
   "outputs": [],
   "source": [
    "from fastai.vision import * \n",
    "from fastai import *\n",
    "path = untar_data(URLs.MNIST_SAMPLE)\n",
    "data = ImageDataBunch.from_folder(path)\n",
    "model = simple_cnn((3,16,16,2))\n",
    "learn = Learner(data, model)"
   ]
  },
  {
   "cell_type": "code",
   "execution_count": 2,
   "metadata": {},
   "outputs": [
    {
     "name": "stdout",
     "output_type": "stream",
     "text": [
      "/home/jupyter/.fastai/data/mnist_sample\n"
     ]
    }
   ],
   "source": [
    "print(path)"
   ]
  },
  {
   "cell_type": "code",
   "execution_count": 3,
   "metadata": {},
   "outputs": [],
   "source": [
    "\n",
    "# learn.fit(1)"
   ]
  },
  {
   "cell_type": "code",
   "execution_count": 5,
   "metadata": {},
   "outputs": [
    {
     "name": "stdout",
     "output_type": "stream",
     "text": [
      "Total time: 00:04\n",
      "epoch  train_loss  valid_loss  accuracy\n",
      "1      0.106075    0.088337    0.972031  (00:04)\n",
      "\n"
     ]
    }
   ],
   "source": [
    "learn.metrics=[accuracy]\n",
    "learn.fit(1)"
   ]
  },
  {
   "cell_type": "code",
   "execution_count": 2,
   "metadata": {},
   "outputs": [
    {
     "name": "stdout",
     "output_type": "stream",
     "text": [
      "Total time: 00:45\n",
      "epoch  train_loss  valid_loss  accuracy\n",
      "1      0.261332    0.171199    0.937684  (00:03)\n",
      "2      0.124080    0.104027    0.965653  (00:04)\n",
      "3      0.092892    0.099716    0.967615  (00:04)\n",
      "4      0.074777    0.057782    0.978901  (00:04)\n",
      "5      0.061686    0.045400    0.983317  (00:04)\n",
      "6      0.053223    0.037603    0.987242  (00:04)\n",
      "7      0.045026    0.034574    0.989696  (00:04)\n",
      "8      0.040792    0.031954    0.988714  (00:04)\n",
      "9      0.040475    0.032068    0.988224  (00:04)\n",
      "10     0.034250    0.031166    0.988714  (00:04)\n",
      "\n"
     ]
    }
   ],
   "source": [
    "learn.metrics=[accuracy]\n",
    "learn.fit_one_cycle(10)"
   ]
  },
  {
   "cell_type": "code",
   "execution_count": null,
   "metadata": {},
   "outputs": [],
   "source": []
  }
 ],
 "metadata": {
  "kernelspec": {
   "display_name": "Python 3",
   "language": "python",
   "name": "python3"
  },
  "language_info": {
   "codemirror_mode": {
    "name": "ipython",
    "version": 3
   },
   "file_extension": ".py",
   "mimetype": "text/x-python",
   "name": "python",
   "nbconvert_exporter": "python",
   "pygments_lexer": "ipython3",
   "version": "3.7.0"
  }
 },
 "nbformat": 4,
 "nbformat_minor": 2
}
