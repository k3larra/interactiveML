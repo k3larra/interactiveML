{
 "cells": [
  {
   "cell_type": "code",
   "execution_count": 1,
   "metadata": {
    "scrolled": true
   },
   "outputs": [
    {
     "name": "stdout",
     "output_type": "stream",
     "text": [
      "total 244\r\n",
      "drwxr-xr-x  4 root root  4096 Nov 18 14:29 .\r\n",
      "drwxr-xr-x 12 root root  4096 Nov 16 09:51 ..\r\n",
      "drwxr-xr-x  2 root root  4096 Nov 17 18:18 .ipynb_checkpoints\r\n",
      "-rw-r--r--  1 root root 78745 Nov 18 14:29 ColdStart.ipynb\r\n",
      "-rw-r--r--  1 root root  1825 Nov 18 14:29 Helpers.ipynb\r\n",
      "-rw-r--r--  1 root root 60587 Nov 18 14:28 Tabtest.ipynb\r\n",
      "-rw-r--r--  1 root root 84777 Nov 17 22:45 ViewData.ipynb\r\n",
      "drwxr-xr-x  5 root root  4096 Nov 17 18:10 data\r\n",
      "lrwxrwxrwx  1 root root    17 Nov 17 15:50 fastai -> /notebooks/fastai\r\n"
     ]
    }
   ],
   "source": [
    "! ls -la"
   ]
  },
  {
   "cell_type": "code",
   "execution_count": 2,
   "metadata": {},
   "outputs": [
    {
     "name": "stdout",
     "output_type": "stream",
     "text": [
      "ln: failed to create symbolic link '/notebooks/storage/interactive_learning/Seminar_3/fastai': File exists\r\n"
     ]
    }
   ],
   "source": [
    "! ln -s /notebooks/fastai /notebooks/storage/interactive_learning/Seminar_3"
   ]
  },
  {
   "cell_type": "code",
   "execution_count": null,
   "metadata": {},
   "outputs": [],
   "source": []
  }
 ],
 "metadata": {
  "kernelspec": {
   "display_name": "Python 3",
   "language": "python",
   "name": "python3"
  },
  "language_info": {
   "codemirror_mode": {
    "name": "ipython",
    "version": 3
   },
   "file_extension": ".py",
   "mimetype": "text/x-python",
   "name": "python",
   "nbconvert_exporter": "python",
   "pygments_lexer": "ipython3",
   "version": "3.6.6"
  }
 },
 "nbformat": 4,
 "nbformat_minor": 2
}
