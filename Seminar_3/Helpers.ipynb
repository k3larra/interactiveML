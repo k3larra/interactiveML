{
 "cells": [
  {
   "cell_type": "code",
   "execution_count": 1,
   "metadata": {
    "scrolled": true
   },
   "outputs": [
    {
     "name": "stdout",
     "output_type": "stream",
     "text": [
      "total 244\n",
      "drwxr-xr-x  4 root root  4096 Nov 18 14:29 .\n",
      "drwxr-xr-x 12 root root  4096 Nov 16 09:51 ..\n",
      "drwxr-xr-x  2 root root  4096 Nov 17 18:18 .ipynb_checkpoints\n",
      "-rw-r--r--  1 root root 78745 Nov 18 14:29 ColdStart.ipynb\n",
      "-rw-r--r--  1 root root  1825 Nov 18 14:29 Helpers.ipynb\n",
      "-rw-r--r--  1 root root 60587 Nov 18 14:28 Tabtest.ipynb\n",
      "-rw-r--r--  1 root root 84777 Nov 17 22:45 ViewData.ipynb\n",
      "drwxr-xr-x  5 root root  4096 Nov 17 18:10 data\n",
      "lrwxrwxrwx  1 root root    17 Nov 17 15:50 fastai -> /notebooks/fastai\n"
     ]
    }
   ],
   "source": [
    "! ls -la"
   ]
  },
  {
   "cell_type": "code",
   "execution_count": 2,
   "metadata": {},
   "outputs": [
    {
     "name": "stdout",
     "output_type": "stream",
     "text": [
      "ln: failed to create symbolic link '/notebooks/storage/interactive_learning/Seminar_3/fastai': File exists\n"
     ]
    }
   ],
   "source": [
    "! ln -s /notebooks/fastai /notebooks/storage/interactive_learning/Seminar_3"
   ]
  },
  {
   "cell_type": "code",
   "execution_count": 1,
   "metadata": {},
   "outputs": [
    {
     "name": "stdout",
     "output_type": "stream",
     "text": [
      "<module 'fastai' from '/opt/anaconda3/lib/python3.7/site-packages/fastai/__init__.py'>\n"
     ]
    }
   ],
   "source": [
    "#Tell me which environment modules are imported from:\n",
    "import sys, fastai\n",
    "print(sys.modules['fastai'])"
   ]
  },
  {
   "cell_type": "code",
   "execution_count": 3,
   "metadata": {},
   "outputs": [
    {
     "name": "stdout",
     "output_type": "stream",
     "text": [
      "['', '/home/jupyter/interactiveML/Seminar_3', '/opt/anaconda3/lib/python37.zip', '/opt/anaconda3/lib/python3.7', '/opt/anaconda3/lib/python3.7/lib-dynload', '/opt/anaconda3/lib/python3.7/site-packages', '/opt/anaconda3/lib/python3.7/site-packages/IPython/extensions', '/home/jupyter/.ipython']\n"
     ]
    }
   ],
   "source": [
    "#Tell me which fastai library got loaded (we want to know the exact location)\n",
    "import sys\n",
    "print(sys.path)\n"
   ]
  },
  {
   "cell_type": "code",
   "execution_count": null,
   "metadata": {},
   "outputs": [
    {
     "name": "stdout",
     "output_type": "stream",
     "text": [
      "total 256\n",
      "drwxr-xr-x  3 root root  4096 Nov 19 17:51 .\n",
      "drwxr-xr-x 10 root root  4096 Nov 19 17:51 ..\n",
      "-rw-r--r--  1 root root 78746 Nov 19 17:51 ColdStart.ipynb\n",
      "drwxr-xr-x  3 root root  4096 Nov 19 17:51 data\n",
      "lrwxrwxrwx  1 root root    17 Nov 19 17:51 fastai -> /notebooks/fastai\n",
      "-rw-r--r--  1 root root  1850 Nov 19 17:51 Helpers.ipynb\n",
      "-rw-r--r--  1 root root 75720 Nov 19 17:51 Tabtest.ipynb\n",
      "-rw-r--r--  1 root root 84974 Nov 19 17:51 ViewData.ipynb\n",
      "unlink: cannot unlink 'fastai': Permission denied\n",
      "\n",
      "We trust you have received the usual lecture from the local System\n",
      "Administrator. It usually boils down to these three things:\n",
      "\n",
      "    #1) Respect the privacy of others.\n",
      "    #2) Think before you type.\n",
      "    #3) With great power comes great responsibility.\n",
      "\n",
      "[sudo] password for jupyter: "
     ]
    }
   ],
   "source": [
    "#ls -la /opt/anaconda3/lib/python3.7/site-packages/fastai/\n",
    "! ls -la\n",
    "! unlink fastai\n",
    "! rm fastai\n",
    "! ls -la"
   ]
  },
  {
   "cell_type": "code",
   "execution_count": 1,
   "metadata": {},
   "outputs": [
    {
     "name": "stdout",
     "output_type": "stream",
     "text": [
      "total 256\n",
      "drwxr-xr-x  3 root root  4096 Nov 20 10:37 .\n",
      "drwxr-xr-x 10 root root  4096 Nov 19 17:51 ..\n",
      "-rw-r--r--  1 root root 78746 Nov 19 17:51 ColdStart.ipynb\n",
      "drwxr-xr-x  3 root root  4096 Nov 19 17:51 data\n",
      "-rw-r--r--  1 root root  1850 Nov 19 17:51 Helpers.ipynb\n",
      "-rw-r--r--  1 root root 75720 Nov 19 17:51 Tabtest.ipynb\n",
      "-rw-r--r--  1 root root 84974 Nov 19 17:51 ViewData.ipynb\n"
     ]
    }
   ],
   "source": [
    "! ls -la\n",
    "\n",
    "# Run from terminal to get latest fastai\n",
    "# cd /tmp/\n",
    "#! git clone https://github.com/fastai/fastai\n",
    "#! cd fastai"
   ]
  },
  {
   "cell_type": "code",
   "execution_count": 2,
   "metadata": {},
   "outputs": [
    {
     "name": "stdout",
     "output_type": "stream",
     "text": [
      "<module 'fastai' from '/opt/anaconda3/lib/python3.7/site-packages/fastai/__init__.py'>\n",
      "['', '/home/jupyter/interactiveML/Seminar_3', '/opt/anaconda3/lib/python37.zip', '/opt/anaconda3/lib/python3.7', '/opt/anaconda3/lib/python3.7/lib-dynload', '/opt/anaconda3/lib/python3.7/site-packages', '/opt/anaconda3/lib/python3.7/site-packages/IPython/extensions', '/home/jupyter/.ipython', '/tmp/fastai']\n"
     ]
    }
   ],
   "source": [
    "import sys\n",
    "sys.path.append(\"/tmp/fastai\")\n",
    "import fastai\n",
    "print(sys.modules['fastai'])\n",
    "print(sys.path)"
   ]
  },
  {
   "cell_type": "code",
   "execution_count": 2,
   "metadata": {},
   "outputs": [
    {
     "name": "stdout",
     "output_type": "stream",
     "text": [
      "total 256\n",
      "drwxrwxrwx  3 root root  4096 Nov 20 10:37 .\n",
      "drwxrwxrwx 10 root root  4096 Nov 19 17:51 ..\n",
      "-rwxrwxrwx  1 root root 78746 Nov 19 17:51 ColdStart.ipynb\n",
      "drwxrwxrwx  2 root root  4096 Nov 20 11:00 data\n",
      "-rwxrwxrwx  1 root root  1850 Nov 19 17:51 Helpers.ipynb\n",
      "-rwxrwxrwx  1 root root 75720 Nov 19 17:51 Tabtest.ipynb\n",
      "-rwxrwxrwx  1 root root 84974 Nov 19 17:51 ViewData.ipynb\n"
     ]
    }
   ],
   "source": [
    "!ls -la "
   ]
  },
  {
   "cell_type": "code",
   "execution_count": null,
   "metadata": {},
   "outputs": [
    {
     "name": "stdout",
     "output_type": "stream",
     "text": [
      "\n",
      "We trust you have received the usual lecture from the local System\n",
      "Administrator. It usually boils down to these three things:\n",
      "\n",
      "    #1) Respect the privacy of others.\n",
      "    #2) Think before you type.\n",
      "    #3) With great power comes great responsibility.\n",
      "\n",
      "[sudo] password for jupyter: "
     ]
    }
   ],
   "source": [
    "! sudo chmod 777 data/models/tmp.h5"
   ]
  },
  {
   "cell_type": "code",
   "execution_count": null,
   "metadata": {},
   "outputs": [
    {
     "name": "stdout",
     "output_type": "stream",
     "text": [
      "ColdStart.ipynb  data  Helpers.ipynb  Tabtest.ipynb  ViewData.ipynb\n",
      "\n",
      "We trust you have received the usual lecture from the local System\n",
      "Administrator. It usually boils down to these three things:\n",
      "\n",
      "    #1) Respect the privacy of others.\n",
      "    #2) Think before you type.\n",
      "    #3) With great power comes great responsibility.\n",
      "\n",
      "[sudo] password for jupyter: "
     ]
    }
   ],
   "source": [
    "! ls\n",
    "! sudo git add Tabtest.ipynb\n",
    "! sudo git commit -m \"updated info\""
   ]
  },
  {
   "cell_type": "code",
   "execution_count": null,
   "metadata": {},
   "outputs": [],
   "source": []
  }
 ],
 "metadata": {
  "kernelspec": {
   "display_name": "Python 3",
   "language": "python",
   "name": "python3"
  },
  "language_info": {
   "codemirror_mode": {
    "name": "ipython",
    "version": 3
   },
   "file_extension": ".py",
   "mimetype": "text/x-python",
   "name": "python",
   "nbconvert_exporter": "python",
   "pygments_lexer": "ipython3",
   "version": "3.7.0"
  }
 },
 "nbformat": 4,
 "nbformat_minor": 2
}
