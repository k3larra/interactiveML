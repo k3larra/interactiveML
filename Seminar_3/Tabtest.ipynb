{
 "cells": [
  {
   "cell_type": "markdown",
   "metadata": {},
   "source": [
    "# Evaluate commuter data over time\n",
    "The code below takes labbeled data, trains a model with a growing amount of training.\n",
    "Since this is done itaratively and compared to predictions towards a test set an estimation can be made over how fast the model converges.\n"
   ]
  },
  {
   "cell_type": "code",
   "execution_count": 1,
   "metadata": {},
   "outputs": [],
   "source": [
    "#Setup\n",
    "from fastai import *          # Quick accesss to most common functionality\n",
    "from fastai.tabular import *  # Quick accesss to tabular functionality     # Access to example data provided with fastai\n",
    "from fastai.vision import *\n",
    "\n",
    "#print(df)path=\"data\"\n",
    "dep_var = 'journey'\n",
    "cat_names = [\"detectedActivity\",\"weekday\"]\n",
    "cont_names =[\"geoHash\",\"minuteOfDay\"]\n",
    "procs = [FillMissing, Categorify, Normalize]\n",
    "#user = \"tnK534JMwwfhvUEycn69HPbhqkt2\" #Maria\n",
    "#user = \"ehaBtfOPDNZjzy1MEvjQmGo4Zv12\" #Andrea\n",
    "user = \"hCWCulj7M1aMVyd0Fm0Eqrv8q1Q2\" #Bjorn\n",
    "\n",
    "def predict_journeys(learner,dataset):  \n",
    "    \"Return\"\n",
    "    result = 0\n",
    "    accuracy = 0\n",
    "    for x in range(0,dataset.shape[0]):\n",
    "        correct = dataset.iloc[x].journey  #remove journey\n",
    "        predicted = learner.predict(dataset.iloc[x]);\n",
    "        if (str(correct)==str(predicted[0])):\n",
    "            result=result+1\n",
    "    accuracy=result/dataset.shape[0]\n",
    "    return(accuracy)\n",
    "    \n",
    "def predict_journey(detectedActivity,geoHash,minuteOfday,weekday):\n",
    "    data = np.array([['','detectedActivity','geoHash','minuteOfDay','weekday'],\n",
    "                [\"row1\",detectedActivity,geoHash,minuteOfday,weekday]])            \n",
    "    dr=pd.DataFrame(data=data[1:,1:],\n",
    "                    index=data[1:,0],\n",
    "                    columns=data[0,1:]).astype(np.int64)\n",
    "    predicted = learner.predict(dr.iloc[0])\n",
    "    return(predicted[0],str(round(predicted[2].max().item(),2)))\n",
    "\n",
    "def evaluate_learner(rows_per_training:int,trainingset,testset,minsize=20): #Minimal start for any training can bne used for offset\n",
    "    #dataSet = pd.read_csv(\"data/\"+filename,comment=\"-\")\n",
    "    #datasetTest = pd.read_csv(\"data/\"+testfilename,comment=\"-\")\n",
    "    result = []\n",
    "    if trainingset.shape[0]<minsize:  #Remove\n",
    "        trainingset = pd.concat([trainingset,trainingset,trainingset,trainingset])\n",
    "    #size=trainingset.shape[0]\n",
    "    for rows in range(minsize,len(trainingset),rows_per_training):\n",
    "        #df=trainingset[rows-rows_per_training:rows]\n",
    "        df=trainingset[0:rows]\n",
    "        ##Fix a multiply here\n",
    "        idx= list(np.random.randint(0,len(df),int(len(df)*0.1)))\n",
    "        data = (TabularList.from_df(df, path=\"models\", cat_names=cat_names, cont_names=cont_names, procs=procs)\n",
    "                .split_by_idx(idx)\n",
    "                .label_from_df(cols=dep_var)\n",
    "                .databunch())\n",
    "        learner=tabular_learner(data, layers=[200,100], metrics=accuracy,callback_fns=ShowGraph)\n",
    "        learner.fit_one_cycle(30)\n",
    "        #learner.fit(5, 1e-2)\n",
    "        sizeR = len(learner.recorder.metrics)\n",
    "#        epochs=5  \n",
    "#         while learner.recorder.metrics[sizeR-1][0].item()<0.95 and epochs<30:\n",
    "#             learner.fit_one_cycle(epochs)\n",
    "#             epochs=epochs+1\n",
    "        #run on testset\n",
    "        resultTest = predict_journeys(learner,testset)\n",
    "        result.append([rows,learner.recorder.metrics[sizeR-1][0].item(),resultTest])\n",
    "    return (result)\n"
   ]
  },
  {
   "cell_type": "markdown",
   "metadata": {},
   "source": [
    "### Training iteratively every day"
   ]
  },
  {
   "cell_type": "code",
   "execution_count": null,
   "metadata": {},
   "outputs": [],
   "source": [
    "#%%capture\n",
    "#Training without teaching set\n",
    "trainingset = pd.read_csv(\"data/\"+user+\"_train_valid.csv\")\n",
    "#Take 14 days\n",
    "trainingset=trainingset[0:int(trainingset.shape[0]/24)]\n",
    "testset = pd.read_csv(\"data/\"+user+\"_test.csv\")\n",
    "size=trainingset.shape[0]\n",
    "rows_per_training = int(size/14) # will result in about one training per day\n",
    "#rows_per_training = int(size/2) # will result in about one training per day\n",
    "print(rows_per_training)\n",
    "print(len(trainingset))\n",
    "\n",
    "resultTrain = evaluate_learner(rows_per_training,trainingset,testset,100)"
   ]
  },
  {
   "cell_type": "markdown",
   "metadata": {},
   "source": [
    "### Training with initial teachingset followed by iterative training every day"
   ]
  },
  {
   "cell_type": "code",
   "execution_count": 2,
   "metadata": {},
   "outputs": [],
   "source": [
    "%%capture\n",
    "#Training with teaching set \n",
    "trainingset = pd.read_csv(\"data/\"+user+\"_train_valid.csv\")\n",
    "#Take first two weeks\n",
    "trainingset=trainingset[0:int(trainingset.shape[0]/24)]\n",
    "teachingset = pd.read_csv(\"data/\"+user+\"_teaching_set.csv\")\n",
    "fram = [teachingset,teachingset,teachingset,teachingset] #data agumentation :)\n",
    "teachingset = pd.concat(fram)\n",
    "frames = [teachingset,trainingset]\n",
    "trainingset2 = pd.concat(frames)\n",
    "testset = pd.read_csv(\"data/\"+user+\"_test.csv\")\n",
    "size=trainingset.shape[0]\n",
    "rows_per_training = int(size/14) # will result in amount of rows for one day training per day\n",
    "# print(rows_per_training)\n",
    "# print(len(trainingset2))\n",
    "# print(len(trainingset))\n",
    "# print(len(teachingset))\n",
    "resultTeach = evaluate_learner(rows_per_training,trainingset2,testset,len(teachingset))"
   ]
  },
  {
   "cell_type": "code",
   "execution_count": 3,
   "metadata": {},
   "outputs": [
    {
     "name": "stdout",
     "output_type": "stream",
     "text": [
      "170\n",
      "6\n",
      "range(0, 90, 6)\n"
     ]
    },
    {
     "data": {
      "image/png": "[encoded data removed]",
      "text/plain": [
       "<Figure size 432x288 with 1 Axes>"
      ]
     },
     "metadata": {
      "needs_background": "light"
     },
     "output_type": "display_data"
    }
   ],
   "source": [
    "import matplotlib.pyplot as plt\n",
    "from matplotlib.ticker import FuncFormatter, MaxNLocator\n",
    "\n",
    "##MT\n",
    "result = np.array(resultTeach)\n",
    "size = trainingset2.shape[0]\n",
    "teachingsize = teachingset.shape[0]\n",
    "#ML\n",
    "#result = np.array(resultTrain)\n",
    "#size = trainingset.shape[0]\n",
    "#teachingsize=0\n",
    "\n",
    "fig, ax = plt.subplots()\n",
    "ax.plot(result[:,0]-teachingsize,result[:,1],label='Accuracy train')\n",
    "ax.plot(result[:,0]-teachingsize,result[:,2],label='Accuracy test set')\n",
    "plt.xlabel('Time (days)')\n",
    "plt.ylabel('Accuracy')\n",
    "ax.axis([0,size-teachingsize,0.0,1.05])\n",
    "print(size)\n",
    "print(rows_per_training)\n",
    "ax.set_xticks(np.arange(0, size-teachingsize, rows_per_training))\n",
    "xs = range(0,size-teachingsize,rows_per_training)\n",
    "print(xs)\n",
    "def format_fn(tick_val, tick_pos):\n",
    "    if int(tick_val) in xs:\n",
    "        return int(tick_val/rows_per_training)\n",
    "    else:\n",
    "         return ''\n",
    "ax.xaxis.set_major_formatter(FuncFormatter(format_fn))\n",
    "legend = ax.legend(loc='lower right', shadow=True, fontsize='medium')\n",
    "plt.show()"
   ]
  },
  {
   "cell_type": "code",
   "execution_count": 4,
   "metadata": {},
   "outputs": [
    {
     "name": "stdout",
     "output_type": "stream",
     "text": [
      "[[ 80.         1.         0.647303]\n",
      " [ 86.         0.875      0.79668 ]\n",
      " [ 92.         0.888889   0.576763]\n",
      " [ 98.         1.         0.954357]\n",
      " [104.         0.9        0.672199]\n",
      " [110.         0.909091   0.917012]\n",
      " [116.         0.818182   0.917012]\n",
      " [122.         1.         0.979253]\n",
      " [128.         1.         0.917012]\n",
      " [134.         0.769231   0.917012]\n",
      " [140.         0.785714   0.817427]\n",
      " [146.         1.         1.      ]\n",
      " [152.         1.         1.      ]\n",
      " [158.         1.         1.      ]\n",
      " [164.         1.         1.      ]]\n"
     ]
    }
   ],
   "source": [
    "without_MT = result.copy()\n",
    "print(without_MT)\n"
   ]
  },
  {
   "cell_type": "markdown",
   "metadata": {},
   "source": [
    "### Teaching\n",
    "If an idealised teaching set is created that contains all combinations of categorical columns (activity and weekday) combined with a time placed in the middle of the timespan for the scenario and location at the departure station."
   ]
  },
  {
   "cell_type": "code",
   "execution_count": 23,
   "metadata": {},
   "outputs": [
    {
     "name": "stdout",
     "output_type": "stream",
     "text": [
      "Total time: 00:11\n",
      "epoch  train_loss  valid_loss  accuracy\n",
      "1      1.681446    1.782976    0.076923  (00:00)\n",
      "2      1.535593    1.762603    0.346154  (00:00)\n",
      "3      1.386754    1.727212    0.730769  (00:00)\n",
      "4      1.251965    1.670756    0.576923  (00:00)\n",
      "5      1.132818    1.582242    0.653846  (00:00)\n",
      "6      1.021589    1.464285    0.692308  (00:00)\n",
      "7      0.921434    1.311666    0.692308  (00:00)\n",
      "8      0.830203    1.129243    0.961538  (00:00)\n",
      "9      0.742522    0.943380    0.961538  (00:00)\n",
      "10     0.680387    0.804802    0.961538  (00:00)\n",
      "11     0.606011    0.596288    1.000000  (00:00)\n",
      "12     0.542104    0.433281    1.000000  (00:00)\n",
      "13     0.491892    0.346342    1.000000  (00:00)\n",
      "14     0.448149    0.307558    1.000000  (00:00)\n",
      "15     0.404295    0.251588    1.000000  (00:00)\n",
      "16     0.366778    0.337410    1.000000  (00:00)\n",
      "17     0.331841    0.212240    1.000000  (00:00)\n",
      "18     0.301378    0.110999    1.000000  (00:00)\n",
      "19     0.274170    0.071583    1.000000  (00:00)\n",
      "20     0.250874    0.154531    1.000000  (00:00)\n",
      "21     0.230316    0.191313    1.000000  (00:00)\n",
      "22     0.210501    0.101624    1.000000  (00:00)\n",
      "23     0.193975    0.177843    1.000000  (00:00)\n",
      "24     0.178089    0.089798    1.000000  (00:00)\n",
      "25     0.163981    0.053087    1.000000  (00:00)\n",
      "26     0.152041    0.091711    1.000000  (00:00)\n",
      "27     0.140215    0.058013    1.000000  (00:00)\n",
      "28     0.129602    0.039914    1.000000  (00:00)\n",
      "29     0.119950    0.030419    1.000000  (00:00)\n",
      "30     0.111220    0.025550    1.000000  (00:00)\n",
      "\n"
     ]
    },
    {
     "data": {
      "image/png": "[encoded data removed]",
      "text/plain": [
       "<Figure size 432x288 with 1 Axes>"
      ]
     },
     "metadata": {
      "needs_background": "light"
     },
     "output_type": "display_data"
    }
   ],
   "source": [
    "#user = \"tnK534JMwwfhvUEycn69HPbhqkt2\" #Maria\n",
    "#user = \"ehaBtfOPDNZjzy1MEvjQmGo4Zv12\" #Andrea\n",
    "#user = \"hCWCulj7M1aMVyd0Fm0Eqrv8q1Q2\" #Bjorn\n",
    "filename = user+\"_teaching_set.csv\"\n",
    "teachingSet = pd.read_csv(\"data/\"+filename)\n",
    "fram = [teachingSet,teachingSet,teachingSet,teachingSet]\n",
    "print(len(teachingSet))\n",
    "teachingSet = pd.concat(fram)\n",
    "print(len(teachingSet))\n",
    "#idx = np.random.randint(0,len(dataSet),int(len(dataSet)*0.1))\n",
    "idx = list(np.random.randint(0,len(teachingSet),int(len(teachingSet)*0.1)))\n",
    "#idx= list(np.random.randint(0,len(dataSet),2))\n",
    "#rows=teachingSet.shape[0]\n",
    "data = (TabularList.from_df(teachingSet, path=\"saved\", cat_names=cat_names, cont_names=cont_names, procs=procs)\n",
    "                .split_by_idx(idx)\n",
    "                .label_from_df(cols=dep_var)\n",
    "                #.add_test(datasetTest)\n",
    "                .databunch())\n",
    "learner=tabular_learner(data, layers=[200,100], metrics=accuracy, callback_fns=ShowGraph)\n",
    "learner.fit_one_cycle(30)\n",
    "#epochs = 4\n",
    "# while learner.recorder.metrics[sizeR-1][0].item()<0.7 and epochs<30:\n",
    "#             learner.fit_one_cycle(epochs)\n",
    "#             epochs=epochs+1\n",
    "#learner.save(user)\n",
    "#data.export()"
   ]
  },
  {
   "cell_type": "markdown",
   "metadata": {},
   "source": [
    "If we avaluate this on the test set"
   ]
  },
  {
   "cell_type": "code",
   "execution_count": 44,
   "metadata": {},
   "outputs": [],
   "source": [
    "#%%capture\n",
    "#user = \"tnK534JMwwfhvUEycn69HPbhqkt2\" #Maria\n",
    "#user = \"ehaBtfOPDNZjzy1MEvjQmGo4Zv12\" #Andrea\n",
    "#user = \"hCWCulj7M1aMVyd0Fm0Eqrv8q1Q2\" #Bjorn\n",
    "filenameTest = user+\"_test.csv\"\n",
    "datasetTest = pd.read_csv(\"data/\"+filenameTest)\n",
    "accuracyTest = predict_journeys(learner,datasetTest)"
   ]
  },
  {
   "cell_type": "markdown",
   "metadata": {},
   "source": [
    "Print result"
   ]
  },
  {
   "cell_type": "code",
   "execution_count": 45,
   "metadata": {},
   "outputs": [
    {
     "name": "stdout",
     "output_type": "stream",
     "text": [
      "1.0\n"
     ]
    },
    {
     "data": {
      "text/html": [
       "<div>\n",
       "<style scoped>\n",
       "    .dataframe tbody tr th:only-of-type {\n",
       "        vertical-align: middle;\n",
       "    }\n",
       "\n",
       "    .dataframe tbody tr th {\n",
       "        vertical-align: top;\n",
       "    }\n",
       "\n",
       "    .dataframe thead th {\n",
       "        text-align: right;\n",
       "    }\n",
       "</style>\n",
       "<table border=\"1\" class=\"dataframe\">\n",
       "  <thead>\n",
       "    <tr style=\"text-align: right;\">\n",
       "      <th></th>\n",
       "      <th>detectedActivity</th>\n",
       "      <th>geoHash</th>\n",
       "      <th>minuteOfDay</th>\n",
       "      <th>weekday</th>\n",
       "      <th>journey</th>\n",
       "    </tr>\n",
       "  </thead>\n",
       "  <tbody>\n",
       "    <tr>\n",
       "      <th>0</th>\n",
       "      <td>3</td>\n",
       "      <td>1242202139</td>\n",
       "      <td>806</td>\n",
       "      <td>6</td>\n",
       "      <td>8033880159</td>\n",
       "    </tr>\n",
       "    <tr>\n",
       "      <th>1</th>\n",
       "      <td>3</td>\n",
       "      <td>1242202139</td>\n",
       "      <td>751</td>\n",
       "      <td>5</td>\n",
       "      <td>8033880049</td>\n",
       "    </tr>\n",
       "    <tr>\n",
       "      <th>2</th>\n",
       "      <td>7</td>\n",
       "      <td>1242188871</td>\n",
       "      <td>1138</td>\n",
       "      <td>5</td>\n",
       "      <td>8004980338</td>\n",
       "    </tr>\n",
       "    <tr>\n",
       "      <th>3</th>\n",
       "      <td>3</td>\n",
       "      <td>1242202139</td>\n",
       "      <td>809</td>\n",
       "      <td>4</td>\n",
       "      <td>8033880049</td>\n",
       "    </tr>\n",
       "    <tr>\n",
       "      <th>4</th>\n",
       "      <td>3</td>\n",
       "      <td>1242202139</td>\n",
       "      <td>780</td>\n",
       "      <td>3</td>\n",
       "      <td>8033880049</td>\n",
       "    </tr>\n",
       "  </tbody>\n",
       "</table>\n",
       "</div>"
      ],
      "text/plain": [
       "   detectedActivity     geoHash  minuteOfDay  weekday     journey\n",
       "0                 3  1242202139          806        6  8033880159\n",
       "1                 3  1242202139          751        5  8033880049\n",
       "2                 7  1242188871         1138        5  8004980338\n",
       "3                 3  1242202139          809        4  8033880049\n",
       "4                 3  1242202139          780        3  8033880049"
      ]
     },
     "execution_count": 45,
     "metadata": {},
     "output_type": "execute_result"
    }
   ],
   "source": [
    "print(accuracyTest)"
   ]
  },
  {
   "cell_type": "code",
   "execution_count": 46,
   "metadata": {},
   "outputs": [
    {
     "name": "stdout",
     "output_type": "stream",
     "text": [
      "Predicted journey from: 80338 to 80159 with accuracy 1.0\n"
     ]
    }
   ],
   "source": [
    "#prediction,accuracy = predict_journey(3,1243184839,603,6) #8107980000 \"ehaBtfOPDNZjzy1MEvjQmGo4Zv12\" Andrea\n",
    "prediction,accuracy = predict_journey(3,1242202139,806,6) #8033880159 \"hCWCulj7M1aMVyd0Fm0Eqrv8q1Q2\" #Bjorn\n",
    "#prediction,accuracy = predict_journey(3,1242479279,527,5) #8121680000 \"tnK534JMwwfhvUEycn69HPbhqkt2\" #Maria\n",
    "print(\"Predicted journey from: \"+str(prediction)[0:5]+\" to \" +str(prediction)[5:10]+ \" with accuracy \"+str(accuracy));"
   ]
  },
  {
   "cell_type": "markdown",
   "metadata": {},
   "source": [
    "Predict and view some rows"
   ]
  },
  {
   "cell_type": "markdown",
   "metadata": {},
   "source": [
    "### Misc"
   ]
  },
  {
   "cell_type": "markdown",
   "metadata": {},
   "source": [
    "### Training on parts of data\n"
   ]
  },
  {
   "cell_type": "markdown",
   "metadata": {},
   "source": [
    "Run test one cycle with part of the training set."
   ]
  },
  {
   "cell_type": "code",
   "execution_count": 2,
   "metadata": {},
   "outputs": [
    {
     "data": {
      "text/html": [
       "Total time: 00:10 <p><table style='width:300px; margin-bottom:10px'>\n",
       "  <tr>\n",
       "    <th>epoch</th>\n",
       "    <th>train_loss</th>\n",
       "    <th>valid_loss</th>\n",
       "    <th>accuracy</th>\n",
       "  </tr>\n",
       "  <tr>\n",
       "    <th>1</th>\n",
       "    <th>1.102330</th>\n",
       "    <th>1.241664</th>\n",
       "    <th>0.899083</th>\n",
       "  </tr>\n",
       "  <tr>\n",
       "    <th>2</th>\n",
       "    <th>0.703792</th>\n",
       "    <th>0.454663</th>\n",
       "    <th>0.899083</th>\n",
       "  </tr>\n",
       "  <tr>\n",
       "    <th>3</th>\n",
       "    <th>0.442563</th>\n",
       "    <th>0.111035</th>\n",
       "    <th>1.000000</th>\n",
       "  </tr>\n",
       "  <tr>\n",
       "    <th>4</th>\n",
       "    <th>0.250533</th>\n",
       "    <th>0.022025</th>\n",
       "    <th>1.000000</th>\n",
       "  </tr>\n",
       "  <tr>\n",
       "    <th>5</th>\n",
       "    <th>0.139954</th>\n",
       "    <th>0.009818</th>\n",
       "    <th>1.000000</th>\n",
       "  </tr>\n",
       "  <tr>\n",
       "    <th>6</th>\n",
       "    <th>0.078893</th>\n",
       "    <th>0.004701</th>\n",
       "    <th>1.000000</th>\n",
       "  </tr>\n",
       "  <tr>\n",
       "    <th>7</th>\n",
       "    <th>0.045126</th>\n",
       "    <th>0.002968</th>\n",
       "    <th>1.000000</th>\n",
       "  </tr>\n",
       "  <tr>\n",
       "    <th>8</th>\n",
       "    <th>0.026055</th>\n",
       "    <th>0.002189</th>\n",
       "    <th>1.000000</th>\n",
       "  </tr>\n",
       "  <tr>\n",
       "    <th>9</th>\n",
       "    <th>0.015273</th>\n",
       "    <th>0.001593</th>\n",
       "    <th>1.000000</th>\n",
       "  </tr>\n",
       "  <tr>\n",
       "    <th>10</th>\n",
       "    <th>0.009096</th>\n",
       "    <th>0.001227</th>\n",
       "    <th>1.000000</th>\n",
       "  </tr>\n",
       "  <tr>\n",
       "    <th>11</th>\n",
       "    <th>0.005646</th>\n",
       "    <th>0.001028</th>\n",
       "    <th>1.000000</th>\n",
       "  </tr>\n",
       "  <tr>\n",
       "    <th>12</th>\n",
       "    <th>0.003592</th>\n",
       "    <th>0.000801</th>\n",
       "    <th>1.000000</th>\n",
       "  </tr>\n",
       "  <tr>\n",
       "    <th>13</th>\n",
       "    <th>0.002393</th>\n",
       "    <th>0.000722</th>\n",
       "    <th>1.000000</th>\n",
       "  </tr>\n",
       "  <tr>\n",
       "    <th>14</th>\n",
       "    <th>0.001680</th>\n",
       "    <th>0.000640</th>\n",
       "    <th>1.000000</th>\n",
       "  </tr>\n",
       "  <tr>\n",
       "    <th>15</th>\n",
       "    <th>0.001289</th>\n",
       "    <th>0.000549</th>\n",
       "    <th>1.000000</th>\n",
       "  </tr>\n",
       "  <tr>\n",
       "    <th>16</th>\n",
       "    <th>0.001062</th>\n",
       "    <th>0.000545</th>\n",
       "    <th>1.000000</th>\n",
       "  </tr>\n",
       "  <tr>\n",
       "    <th>17</th>\n",
       "    <th>0.000952</th>\n",
       "    <th>0.000486</th>\n",
       "    <th>1.000000</th>\n",
       "  </tr>\n",
       "  <tr>\n",
       "    <th>18</th>\n",
       "    <th>0.000812</th>\n",
       "    <th>0.000470</th>\n",
       "    <th>1.000000</th>\n",
       "  </tr>\n",
       "  <tr>\n",
       "    <th>19</th>\n",
       "    <th>0.000769</th>\n",
       "    <th>0.000464</th>\n",
       "    <th>1.000000</th>\n",
       "  </tr>\n",
       "  <tr>\n",
       "    <th>20</th>\n",
       "    <th>0.000686</th>\n",
       "    <th>0.000464</th>\n",
       "    <th>1.000000</th>\n",
       "  </tr>\n",
       "</table>\n"
      ],
      "text/plain": [
       "<IPython.core.display.HTML object>"
      ]
     },
     "metadata": {},
     "output_type": "display_data"
    },
    {
     "data": {
      "image/png": "[encoded data removed]",
      "text/plain": [
       "<Figure size 432x288 with 1 Axes>"
      ]
     },
     "metadata": {},
     "output_type": "display_data"
    }
   ],
   "source": [
    "#user = \"tnK534JMwwfhvUEycn69HPbhqkt2\" #Maria\n",
    "#user = \"ehaBtfOPDNZjzy1MEvjQmGo4Zv12\" #Andrea\n",
    "#user = \"hCWCulj7M1aMVyd0Fm0Eqrv8q1Q2\" #Bjorn\n",
    "filename = user+\"_train_valid.csv\"\n",
    "dataSetIn = pd.read_csv(\"data/\"+filename)\n",
    "dataSet=dataSetIn[0:3000]\n",
    "rows=dataSet.shape[0]\n",
    "idx= list(np.random.randint(0,len(dataSet),int(len(dataSet)*0.1)))\n",
    "#idx=list(range(2000,4000))\n",
    "data = (TabularList.from_df(dataSet, path=\"models\", cat_names=cat_names, cont_names=cont_names, procs=procs)\n",
    "                .split_by_idx(idx)\n",
    "                .label_from_df(cols=dep_var)\n",
    "                .databunch())\n",
    "learner=tabular_learner(data, layers=[200,100], metrics=accuracy,callback_fns=ShowGraph)\n",
    "#%time learner.fit_one_cycle(10)\n",
    "learner.fit_one_cycle(20)\n",
    "epochs = 3\n",
    "sizeR = len(learner.recorder.metrics)\n",
    "# while learner.recorder.metrics[sizeR-1][0].item()<0.95 and epochs<30:\n",
    "#             learner.fit_one_cycle(epochs)\n",
    "#             epochs=epochs+1\n",
    "#%time learner.fit_one_cycle(5)\n",
    "#%time learner.fit(10, 1e-2)\n",
    "#testSet = pd.read_csv(\"data/testWithLabels.csv\",comment=\"-\")\n",
    "#resultTest = predict_journeys(learner,testSet)"
   ]
  },
  {
   "cell_type": "code",
   "execution_count": 5,
   "metadata": {},
   "outputs": [
    {
     "name": "stdout",
     "output_type": "stream",
     "text": [
      "1.0\n",
      "[[tensor(1.)], [tensor(1.)], [tensor(1.)], [tensor(1.)]]\n"
     ]
    }
   ],
   "source": [
    "#learner.metrics[0]\n",
    "#dataSet.sample(3)\n",
    "#list(np.random.randint(0,len(dataSet),10))\n",
    "#list(range(0,20))\n",
    "#int(len(dataSet)*0.1)\n",
    "#len(dataSet)\n",
    "#data\n",
    "preds,y,losses = learner.get_preds(with_loss=True)\n",
    "interp = ClassificationInterpretation(data, preds, y, losses)\n",
    "sizeR = len(learner.recorder.metrics)\n",
    "print(learner.recorder.metrics[sizeR-1][0].item())\n",
    "print(learner.recorder.metrics)\n",
    "#print(tjo)"
   ]
  },
  {
   "cell_type": "code",
   "execution_count": 6,
   "metadata": {},
   "outputs": [
    {
     "data": {
      "image/png": "[encoded data removed]",
      "text/plain": [
       "<Figure size 432x288 with 1 Axes>"
      ]
     },
     "metadata": {
      "needs_background": "light"
     },
     "output_type": "display_data"
    }
   ],
   "source": [
    "interp.plot_confusion_matrix()"
   ]
  },
  {
   "cell_type": "code",
   "execution_count": 7,
   "metadata": {},
   "outputs": [
    {
     "ename": "KeyError",
     "evalue": "tensor(3)",
     "output_type": "error",
     "traceback": [
      "\u001b[0;31m---------------------------------------------------------------------------\u001b[0m",
      "\u001b[0;31mKeyError\u001b[0m                                  Traceback (most recent call last)",
      "\u001b[0;32m<ipython-input-7-776eb7830b8b>\u001b[0m in \u001b[0;36m<module>\u001b[0;34m\u001b[0m\n\u001b[0;32m----> 1\u001b[0;31m \u001b[0minterp\u001b[0m\u001b[0;34m.\u001b[0m\u001b[0mplot_top_losses\u001b[0m\u001b[0;34m(\u001b[0m\u001b[0;36m9\u001b[0m\u001b[0;34m)\u001b[0m\u001b[0;34m\u001b[0m\u001b[0m\n\u001b[0m",
      "\u001b[0;32m/opt/anaconda3/lib/python3.7/site-packages/fastai/vision/learner.py\u001b[0m in \u001b[0;36mplot_top_losses\u001b[0;34m(self, k, largest, figsize)\u001b[0m\n\u001b[1;32m    104\u001b[0m             \u001b[0mcl\u001b[0m \u001b[0;34m=\u001b[0m \u001b[0mint\u001b[0m\u001b[0;34m(\u001b[0m\u001b[0mcl\u001b[0m\u001b[0;34m)\u001b[0m\u001b[0;34m\u001b[0m\u001b[0m\n\u001b[1;32m    105\u001b[0m             im.show(ax=axes.flat[i], title=\n\u001b[0;32m--> 106\u001b[0;31m                 f'{classes[self.pred_class[idx]]}/{classes[cl]} / {self.losses[idx]:.2f} / {self.probs[idx][cl]:.2f}')\n\u001b[0m\u001b[1;32m    107\u001b[0m \u001b[0;34m\u001b[0m\u001b[0m\n\u001b[1;32m    108\u001b[0m     \u001b[0;32mdef\u001b[0m \u001b[0mconfusion_matrix\u001b[0m\u001b[0;34m(\u001b[0m\u001b[0mself\u001b[0m\u001b[0;34m,\u001b[0m \u001b[0mslice_size\u001b[0m\u001b[0;34m:\u001b[0m\u001b[0mint\u001b[0m\u001b[0;34m=\u001b[0m\u001b[0;32mNone\u001b[0m\u001b[0;34m)\u001b[0m\u001b[0;34m:\u001b[0m\u001b[0;34m\u001b[0m\u001b[0m\n",
      "\u001b[0;31mKeyError\u001b[0m: tensor(3)"
     ]
    },
    {
     "data": {
      "image/png": "[encoded data removed]",
      "text/plain": [
       "<Figure size 864x864 with 9 Axes>"
      ]
     },
     "metadata": {
      "needs_background": "light"
     },
     "output_type": "display_data"
    }
   ],
   "source": [
    "interp.plot_top_losses(9)"
   ]
  },
  {
   "cell_type": "code",
   "execution_count": null,
   "metadata": {},
   "outputs": [],
   "source": []
  }
 ],
 "metadata": {
  "kernelspec": {
   "display_name": "Python 3",
   "language": "python",
   "name": "python3"
  },
  "language_info": {
   "codemirror_mode": {
    "name": "ipython",
    "version": 3
   },
   "file_extension": ".py",
   "mimetype": "text/x-python",
   "name": "python",
   "nbconvert_exporter": "python",
   "pygments_lexer": "ipython3",
   "version": "3.7.0"
  }
 },
 "nbformat": 4,
 "nbformat_minor": 2
}
