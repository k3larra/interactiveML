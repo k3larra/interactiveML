{
 "cells": [
  {
   "cell_type": "markdown",
   "metadata": {},
   "source": [
    "# Sjölunda battery sorter\n",
    "## A mockup for K3 seminar 2018-10-17\n"
   ]
  },
  {
   "cell_type": "markdown",
   "metadata": {},
   "source": [
    "This is a playground created to get a hands on experience of Machine Teaching. In Machine Teaching the user has some domain knowledge and and selects the items that the Machine Leaning-artefact (ML-artefact), is supposed to learn from. Traditionally in many Machine Learning settings a domain expert has to be a Machine Learning expert. One goal with Machine Teaching is to give the domain expert a possibility to add knowledge to the model without involving a Machine Learning expert. As in the sorting problem described below a machine could be bought that is generally good at sorting and then it can be trained by the person bying it to sort \"any\" items.      \n",
    "\n",
    "In a system like this the human Teacher has to over time build an understanding of how the Machine Learning artefact learns, similar to a teaching situation with a human or an animal like a dog. A system like this differs from a conventional computer program in the sense that the Machine Leaning-artefact (ML-artefact) can generalize learned knowledge. This means that when it is presented to an item not seen before it guesses what it is.\n",
    "\n",
    "When the system is first started it has no knowledge whatsoever of the domain it is supposed to work in and has to be fed with some initial items. Over time the ML-artefact will learn and the teacher has to monitor that the results are according to expectations.\n",
    "\n",
    "The teacher of a system like this is expected to have domain knowledge meaning that he or she knows more around the specific problem than the ML-artefact. Over time the ML-artefact is expected to get better and better att the task at hand. Generelly this is a dynamic system where the interaction between the user and the ML-artefact is in focus. \n",
    "\n",
    "For this Machine Teaching setup the framework from [fast.ai](http://www.fast.ai/) is used, that framework is an extention of [PyTorch](https://pytorch.org/).\n",
    "\n",
    "### The problem\n",
    "In the example below a mockup is sketched (see image below) for the task of sorting batteries. The camera takes an image and that image is feed to the ML-artefact that returns a decisions to sort them it as **chargeable** or **alkaline**. Since the incoming batteries can be dirty, from an unseen angel or of an previously unseen brand and type classification as **chargeable** or **alkaline** can be problematic. Therefor an human domain expert monitors the work done by the ML-artefact and selects batteries that he or she thinks will make the ML-artefact's predictions more accurate.   \n",
    "\n",
    "There needs to be a way to teach the ML-artefact both initially and over time. As a Machine Teaching problem the possibility for the user to get an overview of the results and to be able to retrain the ML-artefact is important. In this specific case there is no way of knowing how well the ML-artefact does the work without manually checking the sorted batteries.\n",
    "\n",
    "![setup][setupimg]\n",
    "_A visualisation of the setup, the batteries moves forward on the conveyer belt, the camera takes images and decides if it should be sorted as chargeable (contains Pb,Cd,Ni,Hg) or as an alkaline battery. The plate that says LABEL is for batteries that the domain expert (Teacher) selects to retrain the ML-artefact with._\n",
    "\n",
    "### Machine learning algorithm\n",
    "In this mockup a CNN (Convolutional Neural Network) is used to sort the batteries. CNN's is preferably used to classify images, in this case we use a pretrained model resnet-34 as a start. In this test we only use less than 100 images to train the model so it can be used for prediction. In this case we have taken around 5 images on each battery from different angels and divided the images in train, validation and test set. Test set is around 30% of all images. The rest of the data is labelled data (70% of total data) is divided as 70% training set and 30% validation set.\n",
    "\n",
    "\n",
    "### Some information around sorting batteries\n",
    "A real world solution that uses machine learning to sort batteries can be seen here [film](https://www.youtube.com/watch?feature=player_embedded&v=OugqnVO7WiU). In this case the system is probably trained by Machine Learning experts before delivery, in our case we are interested in a setup were the battery expert doesn't need to be Machine Learning expert.  \n",
    "And som infomation around the problem i [general (in swedish](https://www.sopor.nu/fakta-om-sopor/vad-haender-med-din-sopa/elavfall/batterier)\n",
    "\n",
    "[setupimg]: images/setup.jpg \"Setup\"\n",
    "\n",
    "### Related material\n",
    "Machine teaching:\n",
    "An [An overview of machine teaching](https://arxiv.org/abs/1801.05927v1)\n"
   ]
  },
  {
   "cell_type": "code",
   "execution_count": 41,
   "metadata": {},
   "outputs": [
    {
     "name": "stdout",
     "output_type": "stream",
     "text": [
      "3.6.5\n",
      "NVidia GPUs is called CUDA aviable True\n",
      "deep learning accelerator aviable CuDNN True\n"
     ]
    }
   ],
   "source": [
    "# Run this first imports etc\n",
    "%reload_ext autoreload\n",
    "%autoreload 2\n",
    "%matplotlib inline\n",
    "from IPython.display import Markdown, display\n",
    "def printmd(string):\n",
    "    display(Markdown(string))\n",
    "import sys\n",
    "import os\n",
    "import zipfile\n",
    "import platform\n",
    "#sys.path.append(\"../\")\n",
    "from fastaiold.imports import *\n",
    "print(platform.python_version())\n",
    "from fastaiold.transforms import *\n",
    "from fastaiold.conv_learner import *\n",
    "from fastaiold.model import *\n",
    "from fastaiold.dataset import *\n",
    "from fastaiold.sgdr import *\n",
    "from fastaiold.plots import *\n",
    "# set some variables\n",
    "PATH = \"data/batteries_v2/batteries/\"\n",
    "arch=resnet34  ##Using the resnet34 model\n",
    "sz=224\n",
    "print(f'NVidia GPUs is called CUDA aviable {torch.cuda.is_available()}')\n",
    "print(f'deep learning accelerator aviable CuDNN {torch.backends.cudnn.enabled}')"
   ]
  },
  {
   "cell_type": "markdown",
   "metadata": {
    "heading_collapsed": true
   },
   "source": [
    "## Train batteries"
   ]
  },
  {
   "cell_type": "code",
   "execution_count": 68,
   "metadata": {
    "scrolled": false
   },
   "outputs": [
    {
     "data": {
      "application/vnd.jupyter.widget-view+json": {
       "model_id": "d23779cfbe26495d91ca10a462bcba93",
       "version_major": 2,
       "version_minor": 0
      },
      "text/plain": [
       "HBox(children=(IntProgress(value=0, description='Epoch', max=10), HTML(value='')))"
      ]
     },
     "metadata": {},
     "output_type": "display_data"
    },
    {
     "name": "stdout",
     "output_type": "stream",
     "text": [
      "epoch      trn_loss   val_loss   accuracy        \n",
      "    0      0.536318   4.951181   0.37037   \n",
      "    1      0.409849   21.49255   0.333333        \n",
      "    2      4.200267   423.110229 0.296296        \n",
      "    3      6.569964   1517.833008 0.185185       \n",
      "    4      15.090559  2768.397949 0.185185       \n",
      "    5      18.501405  7599.656738 0.185185       \n",
      "    6      28.43435   727.121887 0.814815        \n",
      "    7      67.916859  958.683289 0.925926        \n",
      "    8      90.888183  3042.972412 0.925926       \n",
      "    9      107.690907 4438.441406 0.925926       \n",
      "\n"
     ]
    }
   ],
   "source": [
    "# OLD\n",
    "# # Uncomment below if you need to reset your precomputed activations\n",
    "# #shutil.rmtree(f'{PATH}tmp', ignore_errors=True)\n",
    "data = ImageClassifierData.from_paths(PATH, tfms=tfms_from_model(arch, sz), test_name=\"test\")\n",
    "learn = ConvLearner.pretrained(arch, data, precompute=True)\n",
    "learn.fit(0.5, 10)\n",
    "# # prints training loss, validation loss and accuracy\n",
    "learn.save(\"batteries_1\")"
   ]
  },
  {
   "cell_type": "markdown",
   "metadata": {
    "heading_collapsed": true
   },
   "source": [
    "## Confusion matrix "
   ]
  },
  {
   "cell_type": "code",
   "execution_count": 69,
   "metadata": {
    "hidden": true,
    "scrolled": false
   },
   "outputs": [
    {
     "name": "stdout",
     "output_type": "stream",
     "text": [
      "Prediction:                          \n",
      "[0 0 0 0 0 0 0 0 0 0 0 0 0 0 0 0 0 0 0 0 0 0 1 0 1 0 1]\n",
      "Correct: \n",
      "[0 0 0 0 0 0 0 0 0 0 0 0 0 0 0 0 0 0 0 0 0 0 1 1 1 1 1]\n",
      "Recall for alkaline: 1.0\n",
      "Precision for alkaline: 0.92\n",
      "Recall for chargeable: 0.6\n",
      "Precision for chargeable: 1.0\n",
      "[[22  0]\n",
      " [ 2  3]]\n"
     ]
    },
    {
     "data": {
      "text/markdown": [
       "### Wrong classifications in validation set"
      ],
      "text/plain": [
       "<IPython.core.display.Markdown object>"
      ]
     },
     "metadata": {},
     "output_type": "display_data"
    },
    {
     "name": "stdout",
     "output_type": "stream",
     "text": [
      "valid/chargeable/DSC_0361.jpg\n",
      "Classified as: alkaline should be chargeable\n",
      "valid/chargeable/DSC_0280.jpg\n",
      "Classified as: alkaline should be chargeable\n"
     ]
    },
    {
     "data": {
      "image/png": "[encoded data removed]",
      "text/plain": [
       "<Figure size 432x288 with 2 Axes>"
      ]
     },
     "metadata": {},
     "output_type": "display_data"
    }
   ],
   "source": [
    "log_preds,y = learn.TTA()\n",
    "probs = np.mean(np.exp(log_preds),0)\n",
    "#print(probs)\n",
    "#print(data.val_ds.fnames)\n",
    "preds = np.argmax(probs, axis=1)\n",
    "#print (y))    \n",
    "probs = probs[:,1]\n",
    "from sklearn.metrics import confusion_matrix\n",
    "#accuracy_np(probs, y)\n",
    "cm = confusion_matrix(y, preds)\n",
    "print(\"Prediction: \")\n",
    "print(preds)\n",
    "print(\"Correct: \")\n",
    "print(y)\n",
    "print(\"Recall for alkaline: \"+str(np.around(cm[0,0]/(cm[0,1]+cm[0,0]),decimals=2)))\n",
    "print(\"Precision for alkaline: \"+str(np.around(cm[0,0]/(cm[0,0]+cm[1,0]),decimals=2)))\n",
    "print(\"Recall for chargeable: \"+str(np.around(cm[1,1]/(cm[1,1]+cm[1,0]),decimals=2)))\n",
    "print(\"Precision for chargeable: \"+str(np.around(cm[1,1]/(cm[1,1]+cm[0,1]),decimals=2)))\n",
    "plot_confusion_matrix(cm, data.classes)\n",
    "\n",
    "printmd(\"### Wrong classifications in validation set\")\n",
    "wrong_validation=np.where(np.add(y,preds) == 1)[0]\n",
    "for i in range (0,len(wrong_validation)):\n",
    "    print (data.val_ds.fnames[wrong_validation[i]])\n",
    "    print(\"Classified as: \"+data.classes[preds[wrong_validation[i]]]+\" should be \"+data.classes[y[wrong_validation[i]]])\n"
   ]
  },
  {
   "cell_type": "code",
   "execution_count": 70,
   "metadata": {},
   "outputs": [
    {
     "name": "stdout",
     "output_type": "stream",
     "text": [
      "[23 25]\n"
     ]
    }
   ],
   "source": [
    "print(wrong_validation)"
   ]
  },
  {
   "cell_type": "markdown",
   "metadata": {},
   "source": [
    "![image](data/batteries_v2/batteries/valid/chargeable/DSC_0361.jpg)\n",
    "![image](data/batteries_v2/batteries/valid/chargeable/DSC_0280.jpg)"
   ]
  },
  {
   "cell_type": "markdown",
   "metadata": {},
   "source": [
    "## Predictions on test set\n",
    "\n",
    "Sorted in accuracy order, closer to 0 the model belives it is a alkaline, closer to 1 the model belives it is a chargeable battery. So now we will know if it overfitted or included variance/bias."
   ]
  },
  {
   "cell_type": "code",
   "execution_count": 72,
   "metadata": {
    "scrolled": false
   },
   "outputs": [
    {
     "ename": "ValueError",
     "evalue": "axes don't match array",
     "output_type": "error",
     "traceback": [
      "\u001b[0;31m---------------------------------------------------------------------------\u001b[0m",
      "\u001b[0;31mValueError\u001b[0m                                Traceback (most recent call last)",
      "\u001b[0;32m<ipython-input-72-bacaeaee8720>\u001b[0m in \u001b[0;36m<module>\u001b[0;34m()\u001b[0m\n\u001b[1;32m     17\u001b[0m     \u001b[0;32mreturn\u001b[0m \u001b[0mplots\u001b[0m\u001b[0;34m(\u001b[0m\u001b[0mimg\u001b[0m\u001b[0;34m,\u001b[0m\u001b[0mtitles\u001b[0m\u001b[0;34m=\u001b[0m\u001b[0mtitles\u001b[0m\u001b[0;34m,\u001b[0m\u001b[0mrows\u001b[0m\u001b[0;34m=\u001b[0m\u001b[0;36m5\u001b[0m\u001b[0;34m,\u001b[0m\u001b[0mfigsize\u001b[0m\u001b[0;34m=\u001b[0m\u001b[0;34m(\u001b[0m\u001b[0;36m20\u001b[0m\u001b[0;34m,\u001b[0m\u001b[0;36m16\u001b[0m\u001b[0;34m)\u001b[0m\u001b[0;34m)\u001b[0m\u001b[0;34m\u001b[0m\u001b[0m\n\u001b[1;32m     18\u001b[0m \u001b[0;34m\u001b[0m\u001b[0m\n\u001b[0;32m---> 19\u001b[0;31m \u001b[0mplot_predictions_in_accuacy_order\u001b[0m\u001b[0;34m(\u001b[0m\u001b[0;34m)\u001b[0m\u001b[0;34m\u001b[0m\u001b[0m\n\u001b[0m",
      "\u001b[0;32m<ipython-input-72-bacaeaee8720>\u001b[0m in \u001b[0;36mplot_predictions_in_accuacy_order\u001b[0;34m()\u001b[0m\n\u001b[1;32m     15\u001b[0m         \u001b[0mimg\u001b[0m\u001b[0;34m.\u001b[0m\u001b[0mappend\u001b[0m\u001b[0;34m(\u001b[0m\u001b[0mplt\u001b[0m\u001b[0;34m.\u001b[0m\u001b[0mimread\u001b[0m\u001b[0;34m(\u001b[0m\u001b[0mtitle\u001b[0m\u001b[0;34m)\u001b[0m\u001b[0;34m)\u001b[0m\u001b[0;34m\u001b[0m\u001b[0m\n\u001b[1;32m     16\u001b[0m         \u001b[0mtitles\u001b[0m\u001b[0;34m.\u001b[0m\u001b[0mappend\u001b[0m\u001b[0;34m(\u001b[0m\u001b[0mdata\u001b[0m\u001b[0;34m.\u001b[0m\u001b[0mclasses\u001b[0m\u001b[0;34m[\u001b[0m\u001b[0mint\u001b[0m\u001b[0;34m(\u001b[0m\u001b[0mprobs_sorted\u001b[0m\u001b[0;34m[\u001b[0m\u001b[0mi\u001b[0m\u001b[0;34m]\u001b[0m\u001b[0;34m+\u001b[0m\u001b[0;36m0.5\u001b[0m\u001b[0;34m)\u001b[0m\u001b[0;34m]\u001b[0m\u001b[0;34m+\u001b[0m\u001b[0;34m\":\"\u001b[0m\u001b[0;34m+\u001b[0m\u001b[0mstr\u001b[0m\u001b[0;34m(\u001b[0m\u001b[0mnp\u001b[0m\u001b[0;34m.\u001b[0m\u001b[0maround\u001b[0m\u001b[0;34m(\u001b[0m\u001b[0mprobs_sorted\u001b[0m\u001b[0;34m[\u001b[0m\u001b[0mi\u001b[0m\u001b[0;34m]\u001b[0m\u001b[0;34m,\u001b[0m\u001b[0mdecimals\u001b[0m\u001b[0;34m=\u001b[0m\u001b[0;36m2\u001b[0m\u001b[0;34m)\u001b[0m\u001b[0;34m)\u001b[0m\u001b[0;34m+\u001b[0m\u001b[0;34m\":\"\u001b[0m\u001b[0;34m+\u001b[0m\u001b[0mimg_names_sorted_on_probs\u001b[0m\u001b[0;34m[\u001b[0m\u001b[0mi\u001b[0m\u001b[0;34m]\u001b[0m\u001b[0;34m)\u001b[0m\u001b[0;34m\u001b[0m\u001b[0m\n\u001b[0;32m---> 17\u001b[0;31m     \u001b[0;32mreturn\u001b[0m \u001b[0mplots\u001b[0m\u001b[0;34m(\u001b[0m\u001b[0mimg\u001b[0m\u001b[0;34m,\u001b[0m\u001b[0mtitles\u001b[0m\u001b[0;34m=\u001b[0m\u001b[0mtitles\u001b[0m\u001b[0;34m,\u001b[0m\u001b[0mrows\u001b[0m\u001b[0;34m=\u001b[0m\u001b[0;36m5\u001b[0m\u001b[0;34m,\u001b[0m\u001b[0mfigsize\u001b[0m\u001b[0;34m=\u001b[0m\u001b[0;34m(\u001b[0m\u001b[0;36m20\u001b[0m\u001b[0;34m,\u001b[0m\u001b[0;36m16\u001b[0m\u001b[0;34m)\u001b[0m\u001b[0;34m)\u001b[0m\u001b[0;34m\u001b[0m\u001b[0m\n\u001b[0m\u001b[1;32m     18\u001b[0m \u001b[0;34m\u001b[0m\u001b[0m\n\u001b[1;32m     19\u001b[0m \u001b[0mplot_predictions_in_accuacy_order\u001b[0m\u001b[0;34m(\u001b[0m\u001b[0;34m)\u001b[0m\u001b[0;34m\u001b[0m\u001b[0m\n",
      "\u001b[0;32m/storage/interactive_learning/fastaiold/plots.py\u001b[0m in \u001b[0;36mplots\u001b[0;34m(ims, figsize, rows, interp, titles, maintitle)\u001b[0m\n\u001b[1;32m      9\u001b[0m     \u001b[0;32mif\u001b[0m \u001b[0mtype\u001b[0m\u001b[0;34m(\u001b[0m\u001b[0mims\u001b[0m\u001b[0;34m[\u001b[0m\u001b[0;36m0\u001b[0m\u001b[0;34m]\u001b[0m\u001b[0;34m)\u001b[0m \u001b[0;32mis\u001b[0m \u001b[0mnp\u001b[0m\u001b[0;34m.\u001b[0m\u001b[0mndarray\u001b[0m\u001b[0;34m:\u001b[0m\u001b[0;34m\u001b[0m\u001b[0m\n\u001b[1;32m     10\u001b[0m         \u001b[0mims\u001b[0m \u001b[0;34m=\u001b[0m \u001b[0mnp\u001b[0m\u001b[0;34m.\u001b[0m\u001b[0marray\u001b[0m\u001b[0;34m(\u001b[0m\u001b[0mims\u001b[0m\u001b[0;34m)\u001b[0m\u001b[0;34m\u001b[0m\u001b[0m\n\u001b[0;32m---> 11\u001b[0;31m         \u001b[0;32mif\u001b[0m \u001b[0;34m(\u001b[0m\u001b[0mims\u001b[0m\u001b[0;34m.\u001b[0m\u001b[0mshape\u001b[0m\u001b[0;34m[\u001b[0m\u001b[0;34m-\u001b[0m\u001b[0;36m1\u001b[0m\u001b[0;34m]\u001b[0m \u001b[0;34m!=\u001b[0m \u001b[0;36m3\u001b[0m\u001b[0;34m)\u001b[0m\u001b[0;34m:\u001b[0m \u001b[0mims\u001b[0m \u001b[0;34m=\u001b[0m \u001b[0mims\u001b[0m\u001b[0;34m.\u001b[0m\u001b[0mtranspose\u001b[0m\u001b[0;34m(\u001b[0m\u001b[0;34m(\u001b[0m\u001b[0;36m0\u001b[0m\u001b[0;34m,\u001b[0m\u001b[0;36m2\u001b[0m\u001b[0;34m,\u001b[0m\u001b[0;36m3\u001b[0m\u001b[0;34m,\u001b[0m\u001b[0;36m1\u001b[0m\u001b[0;34m)\u001b[0m\u001b[0;34m)\u001b[0m\u001b[0;34m\u001b[0m\u001b[0m\n\u001b[0m\u001b[1;32m     12\u001b[0m     \u001b[0mf\u001b[0m \u001b[0;34m=\u001b[0m \u001b[0mplt\u001b[0m\u001b[0;34m.\u001b[0m\u001b[0mfigure\u001b[0m\u001b[0;34m(\u001b[0m\u001b[0mfigsize\u001b[0m\u001b[0;34m=\u001b[0m\u001b[0mfigsize\u001b[0m\u001b[0;34m)\u001b[0m\u001b[0;34m\u001b[0m\u001b[0m\n\u001b[1;32m     13\u001b[0m     \u001b[0;32mif\u001b[0m \u001b[0mmaintitle\u001b[0m \u001b[0;32mis\u001b[0m \u001b[0;32mnot\u001b[0m \u001b[0;32mNone\u001b[0m\u001b[0;34m:\u001b[0m\u001b[0;34m\u001b[0m\u001b[0m\n",
      "\u001b[0;31mValueError\u001b[0m: axes don't match array"
     ]
    }
   ],
   "source": [
    "def plot_predictions_in_accuacy_order():\n",
    "    log_preds=learn.predict(is_test=True) \n",
    "    #probs = np.round(np.exp(log_preds[:,1])*100,decimals=0) ##Convert result from log scale (probs given in log...)\n",
    "    probs = np.exp(log_preds[:,1])\n",
    "    names = data.test_ds.fnames\n",
    "    probs_sorted = np.sort(probs)\n",
    "    #print(probs)\n",
    "    #print(names)\n",
    "    img_names_sorted_on_probs = [x for _,x in sorted(zip(probs,names))]\n",
    "    img = []\n",
    "    titles = []\n",
    "    for i in range(0,len(data.test_ds.fnames)):\n",
    "    #for i in range(0,4):\n",
    "        title = PATH + img_names_sorted_on_probs[i]\n",
    "        img.append(plt.imread(title))\n",
    "        titles.append(data.classes[int(probs_sorted[i]+0.5)]+\":\"+str(np.around(probs_sorted[i],decimals=2))+\":\"+img_names_sorted_on_probs[i])    \n",
    "    return plots(img,titles=titles,rows=5,figsize=(20,16))\n",
    "\n",
    "plot_predictions_in_accuacy_order()"
   ]
  },
  {
   "cell_type": "markdown",
   "metadata": {},
   "source": [
    "![image](data/batteries/test/DSC_0357.jpg)\n",
    "![image](data/batteries/test/DSC_0355.jpg)"
   ]
  },
  {
   "cell_type": "markdown",
   "metadata": {},
   "source": [
    "## Utility functions\n",
    "Run this to unpack images that will be used for learning."
   ]
  },
  {
   "cell_type": "code",
   "execution_count": 37,
   "metadata": {},
   "outputs": [],
   "source": [
    "#Unpack images from zipfile to data lib\n",
    "#% rm -rf (mydata/tools\n",
    "with zipfile.ZipFile(\"data/batteries_v2.zip\",\"r\") as zip_ref:\n",
    "    zip_ref.extractall(\"data/batteries_v2\")\n"
   ]
  },
  {
   "cell_type": "code",
   "execution_count": null,
   "metadata": {},
   "outputs": [],
   "source": []
  }
 ],
 "metadata": {
  "kernelspec": {
   "display_name": "Python 3",
   "language": "python",
   "name": "python3"
  },
  "language_info": {
   "codemirror_mode": {
    "name": "ipython",
    "version": 3
   },
   "file_extension": ".py",
   "mimetype": "text/x-python",
   "name": "python",
   "nbconvert_exporter": "python",
   "pygments_lexer": "ipython3",
   "version": "3.6.5"
  },
  "toc": {
   "colors": {
    "hover_highlight": "#DAA520",
    "navigate_num": "#000000",
    "navigate_text": "#333333",
    "running_highlight": "#FF0000",
    "selected_highlight": "#FFD700",
    "sidebar_border": "#EEEEEE",
    "wrapper_background": "#FFFFFF"
   },
   "moveMenuLeft": true,
   "nav_menu": {
    "height": "266px",
    "width": "252px"
   },
   "navigate_menu": true,
   "number_sections": true,
   "sideBar": true,
   "threshold": 4,
   "toc_cell": false,
   "toc_section_display": "block",
   "toc_window_display": false,
   "widenNotebook": false
  }
 },
 "nbformat": 4,
 "nbformat_minor": 2
}
